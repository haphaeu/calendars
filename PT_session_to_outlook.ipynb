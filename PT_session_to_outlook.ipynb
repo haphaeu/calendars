{
 "cells": [
  {
   "cell_type": "markdown",
   "id": "576b4d8e-47a7-40e7-87d8-5edfb60740a3",
   "metadata": {},
   "source": [
    "# Create Outlook events during PT sessions\n",
    "\n",
    "Read Google Calendar `Treino` and finds all PT sessions, then creates an event in Outlook caldendar at the same time.\n",
    "\n",
    "Finding events is done by searching for `Tania` or `PT` in the event name.\n",
    "\n",
    "The Outlook event is created starting 15min, and last for 1h:45min."
   ]
  },
  {
   "cell_type": "code",
   "execution_count": 1,
   "id": "de652a2e-64de-400e-ad5d-15be9184b113",
   "metadata": {},
   "outputs": [],
   "source": [
    "import os \n",
    "import datetime as dt\n",
    "\n",
    "from google.auth.transport.requests import Request\n",
    "from google.oauth2.credentials import Credentials\n",
    "from google_auth_oauthlib.flow import InstalledAppFlow\n",
    "from googleapiclient.discovery import build\n",
    "from googleapiclient.errors import HttpError\n",
    "\n",
    "from calendars import OutlookCalendar"
   ]
  },
  {
   "cell_type": "code",
   "execution_count": 7,
   "id": "2e7d4105-3daf-4b04-8a49-5f48ef97d74a",
   "metadata": {},
   "outputs": [],
   "source": [
    "DRY_RUN = True"
   ]
  },
  {
   "cell_type": "code",
   "execution_count": 3,
   "id": "e989285f-ff9f-4fd5-8874-e18dca75a5b0",
   "metadata": {},
   "outputs": [],
   "source": [
    "OUTLOOK_CALENDAR = OutlookCalendar()"
   ]
  },
  {
   "cell_type": "code",
   "execution_count": 4,
   "id": "1647b984-f10a-4509-adae-e3de1ed655cc",
   "metadata": {},
   "outputs": [],
   "source": [
    "SCOPES = ['https://www.googleapis.com/auth/calendar']\n",
    "\n",
    "START_DATE = dt.datetime(2024, 3, 20)\n",
    "\n",
    "\n",
    "def _get_credentials():\n",
    "    creds = None\n",
    "    if os.path.exists('token.json'):\n",
    "        creds = Credentials.from_authorized_user_file('token.json', \n",
    "                                                      SCOPES)\n",
    "    if not creds or not creds.valid:\n",
    "        if creds and creds.expired and creds.refresh_token:\n",
    "            creds.refresh(Request())\n",
    "        else:\n",
    "            flow = InstalledAppFlow.from_client_secrets_file(\n",
    "                'credentials.json', SCOPES)\n",
    "            creds = flow.run_local_server(port=0)\n",
    "        # Save the credentials for the next run\n",
    "        with open('token.json', 'w') as token:\n",
    "            token.write(creds.to_json())\n",
    "\n",
    "    return creds\n",
    "\n",
    "creds = _get_credentials()"
   ]
  },
  {
   "cell_type": "code",
   "execution_count": 5,
   "id": "34b21dc5-c687-465e-abfa-abb23c1c560e",
   "metadata": {},
   "outputs": [],
   "source": [
    "service = build('calendar', 'v3', credentials=creds)"
   ]
  },
  {
   "cell_type": "code",
   "execution_count": 6,
   "id": "5f9d7713-e46b-4d10-8593-abf83437e2bd",
   "metadata": {},
   "outputs": [
    {
     "name": "stdout",
     "output_type": "stream",
     "text": [
      "Tania 2024-03-21 09:45:00\n",
      "Tania 2024-04-12 09:45:00\n",
      "PT session w/Tania Simonetti 2024-04-19 09:45:00\n",
      "PT session w/Tania Simonetti 2024-04-26 09:45:00\n"
     ]
    }
   ],
   "source": [
    "from_date = START_DATE.astimezone().isoformat()\n",
    "events_result = service.events().list(\n",
    "    #calendarId='primary', \n",
    "    calendarId='sjor2ciqns5rju6bd7u6tlis8k@group.calendar.google.com', \n",
    "    timeMin=from_date, # timeMax=to_date,\n",
    "    maxResults=999, singleEvents=True,\n",
    "    orderBy='startTime').execute()\n",
    "\n",
    "events = events_result.get('items', [])\n",
    "\n",
    "for e in events:\n",
    "    try:\n",
    "        descr = e['summary']\n",
    "    except KeyError:\n",
    "        continue\n",
    "        \n",
    "    if 'Tania' in descr or 'PT' in descr:\n",
    "        start_time = e['start']['dateTime']\n",
    "        # start 15min earlier to avoit back-to-back meetings\n",
    "        start_time = f\"{dt.datetime.fromisoformat(start_time) - dt.timedelta(minutes=15)}\"\n",
    "        # and convert to an outlook friendly format\n",
    "        start_time = start_time[:start_time.find('+')].replace('T', ' ')\n",
    "        print(e['summary'], start_time)\n",
    "        if not DRY_RUN:\n",
    "            OUTLOOK_CALENDAR.create_event(\n",
    "                start=start_time,\n",
    "                subject='pvt pt ssn',\n",
    "                duration=105,\n",
    "            )"
   ]
  },
  {
   "cell_type": "code",
   "execution_count": null,
   "id": "68ef62f0-acb3-4704-b0f3-009c962233b8",
   "metadata": {},
   "outputs": [],
   "source": []
  }
 ],
 "metadata": {
  "kernelspec": {
   "display_name": "Python 3 (ipykernel)",
   "language": "python",
   "name": "python3"
  },
  "language_info": {
   "codemirror_mode": {
    "name": "ipython",
    "version": 3
   },
   "file_extension": ".py",
   "mimetype": "text/x-python",
   "name": "python",
   "nbconvert_exporter": "python",
   "pygments_lexer": "ipython3",
   "version": "3.11.2"
  }
 },
 "nbformat": 4,
 "nbformat_minor": 5
}
